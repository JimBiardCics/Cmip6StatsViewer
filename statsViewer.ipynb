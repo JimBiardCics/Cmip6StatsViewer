{
 "cells": [
  {
   "cell_type": "code",
   "execution_count": 1,
   "metadata": {},
   "outputs": [],
   "source": [
    "%matplotlib widget\n",
    "\n",
    "from collectedStatsViewer import StatsViewer\n",
    "\n",
    "import ipywidgets as widgets"
   ]
  },
  {
   "cell_type": "code",
   "execution_count": 2,
   "metadata": {},
   "outputs": [
    {
     "data": {
      "application/vnd.jupyter.widget-view+json": {
       "model_id": "4ecc231a35594d29b7fc42856b38cf67",
       "version_major": 2,
       "version_minor": 0
      },
      "text/plain": [
       "Canvas(toolbar=Toolbar(toolitems=[('Home', 'Reset original view', 'home', 'home'), ('Back', 'Back to previous …"
      ]
     },
     "metadata": {},
     "output_type": "display_data"
    },
    {
     "data": {
      "application/vnd.jupyter.widget-view+json": {
       "model_id": "ee956bb2049748c4a6c8298164fe4672",
       "version_major": 2,
       "version_minor": 0
      },
      "text/plain": [
       "VBox(children=(HBox(children=(SelectMultiple(description='Model:', index=(0,), options=('all', 'BCC-CSM2-MR', …"
      ]
     },
     "metadata": {},
     "output_type": "display_data"
    }
   ],
   "source": [
    "viewer = StatsViewer('cmip6_all_rate_clims.nc')\n",
    "\n",
    "climSelection     = widgets.SelectMultiple(description = 'Climatology:', options = viewer.clims, value = ('all seasons',))\n",
    "modelSelection    = widgets.SelectMultiple(description = 'Model:', options = viewer.models, value = ('all',))\n",
    "scenarioSelection = widgets.SelectMultiple(description = 'Scenario:', options = viewer.scenarios, value = ('all',))\n",
    "rangeSelection    = widgets.SelectMultiple(description = 'Years:', options = viewer.yearRanges, value = ('all',))\n",
    "xAxisSelection    = widgets.Select(description = 'X Axis:', options = ('models', 'scenarios', 'years', 'climatology time'))\n",
    "yAxisSelection    = widgets.Select(description = 'Y Axis:', options = ('values', 'ratio to historical'))\n",
    "\n",
    "argDict = {\n",
    "    'climsSelected':     climSelection,\n",
    "    'modelsSelected':    modelSelection,\n",
    "    'scenariosSelected': scenarioSelection,\n",
    "    'rangesSelected':    rangeSelection,\n",
    "    'xAxisSelected':     xAxisSelection,\n",
    "    'yAxisSelected':     yAxisSelection\n",
    "}\n",
    "\n",
    "firstRow  = widgets.HBox([modelSelection, scenarioSelection])\n",
    "secondRow = widgets.HBox([climSelection, rangeSelection])\n",
    "thirdRow  = widgets.HBox([xAxisSelection, yAxisSelection])\n",
    "\n",
    "out = widgets.interactive(viewer.displayChart, **argDict)\n",
    "\n",
    "widgets.VBox([firstRow, secondRow, thirdRow])"
   ]
  },
  {
   "cell_type": "code",
   "execution_count": null,
   "metadata": {},
   "outputs": [],
   "source": []
  }
 ],
 "metadata": {
  "kernelspec": {
   "display_name": "Python 3",
   "language": "python",
   "name": "python3"
  },
  "language_info": {
   "codemirror_mode": {
    "name": "ipython",
    "version": 3
   },
   "file_extension": ".py",
   "mimetype": "text/x-python",
   "name": "python",
   "nbconvert_exporter": "python",
   "pygments_lexer": "ipython3",
   "version": "3.8.2"
  }
 },
 "nbformat": 4,
 "nbformat_minor": 4
}
