{
 "cells": [
  {
   "cell_type": "code",
   "execution_count": 1,
   "metadata": {},
   "outputs": [],
   "source": [
    "%matplotlib widget\n",
    "\n",
    "from collectedStatsViewer import StatsViewer\n",
    "from IPython.display import display\n",
    "from matplotlib import pyplot\n",
    "\n",
    "import ipywidgets as widgets"
   ]
  },
  {
   "cell_type": "code",
   "execution_count": 2,
   "metadata": {
    "scrolled": false
   },
   "outputs": [
    {
     "data": {
      "application/vnd.jupyter.widget-view+json": {
       "model_id": "b5f3925216f242d89073226788faf972",
       "version_major": 2,
       "version_minor": 0
      },
      "text/plain": [
       "AppLayout(children=(VBox(children=(HBox(children=(SelectMultiple(description='Model:', index=(0,), options=('a…"
      ]
     },
     "metadata": {},
     "output_type": "display_data"
    }
   ],
   "source": [
    "pyplot.ioff()\n",
    "\n",
    "figure = pyplot.figure()\n",
    "\n",
    "figure.set_tight_layout({ 'rect': (0.0, 0.0, 1.0, 0.8) })\n",
    "\n",
    "viewer = StatsViewer('cmip6_10deg_rate_clims.nc', figure)\n",
    "\n",
    "modelSelection       = widgets.SelectMultiple(description = 'Model:', options = viewer.models, value = ('all',))\n",
    "scenarioSelection    = widgets.SelectMultiple(description = 'Scenario:', options = viewer.scenarios, value = ('all',))\n",
    "climSelection        = widgets.SelectMultiple(description = 'Climatology:', options = viewer.clims, value = ('all seasons',))\n",
    "rangeSelection       = widgets.SelectMultiple(description = 'Years:', options = viewer.yearRanges, value = ('all',))\n",
    "latSelection         = widgets.SelectMultiple(description = 'Latitude:', options = viewer.latRanges, value = ('all',))\n",
    "lonSelection         = widgets.SelectMultiple(description = 'Longitude:', options = viewer.lonRanges, value = ('all',))\n",
    "spatialMeanSelection = widgets.Select(description = 'Spatial Mean:', options = viewer.spatialMeanOptions, value = 'none')\n",
    "xAxisSelection       = widgets.Select(description = 'X Axis:', options = viewer.xAxisOptions, value = 'climatology time')\n",
    "yAxisSelection       = widgets.Select(description = 'Y Axis:', options = viewer.yAxisOptions, value = 'values')\n",
    "\n",
    "argDict = {\n",
    "    'modelsSelected':      modelSelection,\n",
    "    'scenariosSelected':   scenarioSelection,\n",
    "    'climsSelected':       climSelection,\n",
    "    'rangesSelected':      rangeSelection,\n",
    "    'latsSelected':        latSelection,\n",
    "    'lonsSelected':        lonSelection,\n",
    "    'spatialMeanSelected': spatialMeanSelection,\n",
    "    'xAxisSelected':       xAxisSelection,\n",
    "    'yAxisSelected':       yAxisSelection\n",
    "}\n",
    "\n",
    "interactive = widgets.interactive(viewer.displayChart, **argDict)\n",
    "\n",
    "row1 = widgets.HBox((modelSelection, scenarioSelection, climSelection))\n",
    "row2 = widgets.HBox((rangeSelection, latSelection, lonSelection))\n",
    "row3 = widgets.HBox((spatialMeanSelection, xAxisSelection, yAxisSelection))\n",
    "\n",
    "app = widgets.AppLayout(header = widgets.VBox((row1, row2, row3)),\n",
    "                        center = figure.canvas,\n",
    "                        footer = interactive.children[-1])\n",
    "\n",
    "pyplot.ion()\n",
    "\n",
    "display(app)"
   ]
  },
  {
   "cell_type": "code",
   "execution_count": null,
   "metadata": {},
   "outputs": [],
   "source": []
  }
 ],
 "metadata": {
  "kernelspec": {
   "display_name": "Python 3",
   "language": "python",
   "name": "python3"
  },
  "language_info": {
   "codemirror_mode": {
    "name": "ipython",
    "version": 3
   },
   "file_extension": ".py",
   "mimetype": "text/x-python",
   "name": "python",
   "nbconvert_exporter": "python",
   "pygments_lexer": "ipython3",
   "version": "3.8.2"
  }
 },
 "nbformat": 4,
 "nbformat_minor": 4
}
